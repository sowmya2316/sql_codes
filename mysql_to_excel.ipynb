{
 "cells": [
  {
   "cell_type": "code",
   "execution_count": 1,
   "id": "66c5f911",
   "metadata": {},
   "outputs": [],
   "source": [
    "import mysql.connector as ms\n",
    "import pandas as pd"
   ]
  },
  {
   "cell_type": "code",
   "execution_count": 2,
   "id": "65003230",
   "metadata": {},
   "outputs": [
    {
     "name": "stdout",
     "output_type": "stream",
     "text": [
      "<mysql.connector.connection_cext.CMySQLConnection object at 0x000001C743F1E5E0>\n"
     ]
    }
   ],
   "source": [
    "db = ms.connect(host = \"localhost\",user=\"root\",password=\"root340\",database=\"sql_assignment\")\n",
    "print(db)"
   ]
  },
  {
   "cell_type": "code",
   "execution_count": 3,
   "id": "045cd31e",
   "metadata": {},
   "outputs": [],
   "source": [
    "cursor=db.cursor()"
   ]
  },
  {
   "cell_type": "code",
   "execution_count": 4,
   "id": "3d8a6010",
   "metadata": {},
   "outputs": [],
   "source": [
    "total_records = \"select * from students_report;\"\n",
    "\n",
    "cursor.execute(total_records)"
   ]
  },
  {
   "cell_type": "code",
   "execution_count": 5,
   "id": "74e47b0a",
   "metadata": {},
   "outputs": [],
   "source": [
    "column_names = list()\n",
    "for ele in cursor.description:\n",
    "    column_names.append(ele[0])"
   ]
  },
  {
   "cell_type": "code",
   "execution_count": 6,
   "id": "ce4b494d",
   "metadata": {},
   "outputs": [],
   "source": [
    "rows = cursor.fetchall()"
   ]
  },
  {
   "cell_type": "code",
   "execution_count": 7,
   "id": "595cfe55",
   "metadata": {},
   "outputs": [
    {
     "name": "stdout",
     "output_type": "stream",
     "text": [
      "   id     name  marks result\n",
      "0   1     Alex     60   pass\n",
      "1   2      Ben     40   fail\n",
      "2   3  Cameron     90   pass\n",
      "3   4      Sam     55   fail\n",
      "4   5    Shyam     40   fail\n"
     ]
    }
   ],
   "source": [
    "records=pd.DataFrame(rows)\n",
    "records.columns=column_names\n",
    "print(records)"
   ]
  },
  {
   "cell_type": "code",
   "execution_count": 8,
   "id": "733d69ee",
   "metadata": {},
   "outputs": [],
   "source": [
    "fp = pd.ExcelWriter('report.xlsx', engine='xlsxwriter')\n",
    "records.to_excel(fp,sheet_name='students_report',index=False)"
   ]
  },
  {
   "cell_type": "code",
   "execution_count": 9,
   "id": "d980e6de",
   "metadata": {},
   "outputs": [],
   "source": [
    "workbook = fp.book\n",
    "worksheet = fp.sheets['students_report']\n",
    "header_format = workbook.add_format({'bold':True,'fg_color':'#00FFFF'})\n"
   ]
  },
  {
   "cell_type": "code",
   "execution_count": 10,
   "id": "f9fc3346",
   "metadata": {},
   "outputs": [
    {
     "name": "stderr",
     "output_type": "stream",
     "text": [
      "C:\\Users\\Narayana\\anaconda3\\lib\\site-packages\\xlsxwriter\\workbook.py:339: UserWarning: Calling close() on already closed file.\n",
      "  warn(\"Calling close() on already closed file.\")\n"
     ]
    }
   ],
   "source": [
    "i=0\n",
    "for ele in column_names:\n",
    "    worksheet.write(0,i,ele,header_format)\n",
    "    i=i+1\n",
    "fp.save()\n",
    "fp.close()"
   ]
  }
 ],
 "metadata": {
  "kernelspec": {
   "display_name": "Python 3 (ipykernel)",
   "language": "python",
   "name": "python3"
  },
  "language_info": {
   "codemirror_mode": {
    "name": "ipython",
    "version": 3
   },
   "file_extension": ".py",
   "mimetype": "text/x-python",
   "name": "python",
   "nbconvert_exporter": "python",
   "pygments_lexer": "ipython3",
   "version": "3.9.12"
  }
 },
 "nbformat": 4,
 "nbformat_minor": 5
}
