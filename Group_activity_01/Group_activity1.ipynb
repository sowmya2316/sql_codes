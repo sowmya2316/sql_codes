{
 "cells": [
  {
   "cell_type": "code",
   "execution_count": 1,
   "id": "f3886fd7",
   "metadata": {},
   "outputs": [],
   "source": [
    "# importing required\n",
    "import mysql.connector\n",
    "from mysql.connector import Error\n",
    "import pandas as pd"
   ]
  },
  {
   "cell_type": "code",
   "execution_count": 2,
   "id": "e8f7e8aa",
   "metadata": {},
   "outputs": [
    {
     "name": "stdout",
     "output_type": "stream",
     "text": [
      "database connection has been done\n"
     ]
    }
   ],
   "source": [
    "def create_server_connection(host_name, user_name, user_password):\n",
    "    connection = None\n",
    "    try:\n",
    "        connection = mysql.connector.connect(\n",
    "            host=host_name, user=user_name, password=user_password\n",
    "        )\n",
    "        print(\"database connection has been done\")\n",
    "    except Error as er:\n",
    "        print(f\"Error : '{er}'\")\n",
    "    return connection\n",
    "pw=\"Mysql@bnt12\"\n",
    "db=\"Group_activity01\"\n",
    "connection = create_server_connection(\"localhost\",\"root\",pw)"
   ]
  },
  {
   "cell_type": "code",
   "execution_count": 3,
   "id": "fc7dbcb5",
   "metadata": {},
   "outputs": [
    {
     "name": "stdout",
     "output_type": "stream",
     "text": [
      "Error :'1007 (HY000): Can't create database 'group_activity01'; database exists'\n"
     ]
    }
   ],
   "source": [
    "#creating database\n",
    "\n",
    "def create_database (connection,query):\n",
    "    cursor=connection.cursor()\n",
    "    try:\n",
    "        cursor.execute(query)\n",
    "        print(\"Database created\")\n",
    "    except Error as er:\n",
    "        print(f\"Error :'{er}'\")\n",
    "database_create_query=\"CREATE DATABASE Group_activity01\"\n",
    "create_database(connection,database_create_query)\n",
    " "
   ]
  },
  {
   "cell_type": "code",
   "execution_count": 4,
   "id": "8ca575c1",
   "metadata": {},
   "outputs": [],
   "source": [
    "#connect to database\n",
    "\n",
    "def create_db_conncetion(host_name,user_name,user_password,db_name):\n",
    "    connection=None\n",
    "    try:\n",
    "        connection=mysql.connector.connect(host=host_name,user=user_name, password=user_password,database=db_name)\n",
    "        print(\"database connetion done\")\n",
    "    except Error as er:\n",
    "        print(f\"Error : '{er}'\")\n",
    "    return connection"
   ]
  },
  {
   "cell_type": "code",
   "execution_count": 5,
   "id": "70388ca7",
   "metadata": {},
   "outputs": [],
   "source": [
    "#execute sql qurey\n",
    "\n",
    "def excecute_query(connection,query):\n",
    "    cursor=connection.cursor()\n",
    "    try:\n",
    "        cursor.execute(query)\n",
    "        connection.commit()\n",
    "        print(\"Query was succesful\")\n",
    "    except Error as er:\n",
    "        print(f\"Error :'{er}'\")"
   ]
  },
  {
   "cell_type": "code",
   "execution_count": 12,
   "id": "92437559",
   "metadata": {},
   "outputs": [
    {
     "name": "stdout",
     "output_type": "stream",
     "text": [
      "database connetion done\n",
      "Query was succesful\n"
     ]
    }
   ],
   "source": [
    "create_table_query=\"\"\"create table Student(\n",
    "                    id int,\n",
    "                    Name varchar(20),\n",
    "                    Marks int,\n",
    "                    Result varchar(20));\"\"\"\n",
    "connection=create_db_conncetion(\"localhost\",\"root\",pw,db)\n",
    "excecute_query(connection,create_table_query)"
   ]
  },
  {
   "cell_type": "code",
   "execution_count": 13,
   "id": "4ac9c1ff",
   "metadata": {},
   "outputs": [
    {
     "name": "stdout",
     "output_type": "stream",
     "text": [
      "database connetion done\n",
      "Query was succesful\n"
     ]
    }
   ],
   "source": [
    "insert_query=\"\"\"insert into student values(1,\"jogesh\",89,\"Pass\"),\n",
    "                                          (2,\"ram\",75,\"Pass\"),\n",
    "                                          (3,\"gopal\",33,\"Fail\"),\n",
    "                                          (4,\"Aman\",32,\"Fail\"),\n",
    "                                          (5,\"Tushar\",91,\"Pass\"),\n",
    "                                          (6,\"Abhisek\",52,\"Fail\"),\n",
    "                                          (7,\"Rohit\",78,\"Pass\")\"\"\"\n",
    "connection=create_db_conncetion(\"localhost\",\"root\",pw,db)\n",
    "excecute_query(connection,insert_query)"
   ]
  },
  {
   "cell_type": "code",
   "execution_count": 13,
   "id": "a5e1e86d",
   "metadata": {},
   "outputs": [],
   "source": [
    "#for viewing data\n",
    "def For_select_qureies(connection,query):\n",
    "    cursor=connection.cursor()\n",
    "    result=None\n",
    "    try:\n",
    "        cursor.execute(query)\n",
    "        result = cursor.fetchall()\n",
    "        return result\n",
    "    except Error as er:\n",
    "        print(f\"Error :'{er}'\") "
   ]
  },
  {
   "cell_type": "code",
   "execution_count": 14,
   "id": "e9f347f3",
   "metadata": {},
   "outputs": [
    {
     "name": "stdout",
     "output_type": "stream",
     "text": [
      "database connetion done\n",
      "(1, 'jogesh', 89, 'Pass')\n",
      "(2, 'ram', 75, 'Pass')\n",
      "(3, 'gopal', 33, 'Fail')\n",
      "(4, 'Aman', 32, 'Fail')\n",
      "(5, 'Tushar', 91, 'Pass')\n",
      "(6, 'Abhisek', 52, 'Fail')\n",
      "(7, 'Rohit', 78, 'Pass')\n",
      "(8, 'pavankumar', 23, 'Fail')\n",
      "(9, 'subham', 95, 'Pass')\n",
      "(10, 'Elsa', 99, 'Pass')\n",
      "(11, 'Prativa', 97, 'Pass')\n",
      "(12, 'Sriram', 14, 'Fail')\n",
      "(13, 'Ritvik', 74, 'Pass')\n",
      "(14, 'Omm', 93, 'Pass')\n"
     ]
    }
   ],
   "source": [
    "select_all=\"select * from student\"\n",
    "connection=create_db_conncetion(\"localhost\",\"root\",pw,db)\n",
    "result=For_select_qureies(connection,select_all)\n",
    "for x in result:\n",
    "    print(x)"
   ]
  },
  {
   "cell_type": "code",
   "execution_count": 15,
   "id": "2c730d3a",
   "metadata": {},
   "outputs": [
    {
     "data": {
      "text/html": [
       "<div>\n",
       "<style scoped>\n",
       "    .dataframe tbody tr th:only-of-type {\n",
       "        vertical-align: middle;\n",
       "    }\n",
       "\n",
       "    .dataframe tbody tr th {\n",
       "        vertical-align: top;\n",
       "    }\n",
       "\n",
       "    .dataframe thead th {\n",
       "        text-align: right;\n",
       "    }\n",
       "</style>\n",
       "<table border=\"1\" class=\"dataframe\">\n",
       "  <thead>\n",
       "    <tr style=\"text-align: right;\">\n",
       "      <th></th>\n",
       "      <th>id</th>\n",
       "      <th>Name</th>\n",
       "      <th>Marks</th>\n",
       "      <th>Result</th>\n",
       "    </tr>\n",
       "  </thead>\n",
       "  <tbody>\n",
       "    <tr>\n",
       "      <th>0</th>\n",
       "      <td>1</td>\n",
       "      <td>jogesh</td>\n",
       "      <td>89</td>\n",
       "      <td>Pass</td>\n",
       "    </tr>\n",
       "    <tr>\n",
       "      <th>1</th>\n",
       "      <td>2</td>\n",
       "      <td>ram</td>\n",
       "      <td>75</td>\n",
       "      <td>Pass</td>\n",
       "    </tr>\n",
       "    <tr>\n",
       "      <th>2</th>\n",
       "      <td>3</td>\n",
       "      <td>gopal</td>\n",
       "      <td>33</td>\n",
       "      <td>Fail</td>\n",
       "    </tr>\n",
       "    <tr>\n",
       "      <th>3</th>\n",
       "      <td>4</td>\n",
       "      <td>Aman</td>\n",
       "      <td>32</td>\n",
       "      <td>Fail</td>\n",
       "    </tr>\n",
       "    <tr>\n",
       "      <th>4</th>\n",
       "      <td>5</td>\n",
       "      <td>Tushar</td>\n",
       "      <td>91</td>\n",
       "      <td>Pass</td>\n",
       "    </tr>\n",
       "    <tr>\n",
       "      <th>5</th>\n",
       "      <td>6</td>\n",
       "      <td>Abhisek</td>\n",
       "      <td>52</td>\n",
       "      <td>Fail</td>\n",
       "    </tr>\n",
       "    <tr>\n",
       "      <th>6</th>\n",
       "      <td>7</td>\n",
       "      <td>Rohit</td>\n",
       "      <td>78</td>\n",
       "      <td>Pass</td>\n",
       "    </tr>\n",
       "    <tr>\n",
       "      <th>7</th>\n",
       "      <td>8</td>\n",
       "      <td>pavankumar</td>\n",
       "      <td>23</td>\n",
       "      <td>Fail</td>\n",
       "    </tr>\n",
       "    <tr>\n",
       "      <th>8</th>\n",
       "      <td>9</td>\n",
       "      <td>subham</td>\n",
       "      <td>95</td>\n",
       "      <td>Pass</td>\n",
       "    </tr>\n",
       "    <tr>\n",
       "      <th>9</th>\n",
       "      <td>10</td>\n",
       "      <td>Elsa</td>\n",
       "      <td>99</td>\n",
       "      <td>Pass</td>\n",
       "    </tr>\n",
       "    <tr>\n",
       "      <th>10</th>\n",
       "      <td>11</td>\n",
       "      <td>Prativa</td>\n",
       "      <td>97</td>\n",
       "      <td>Pass</td>\n",
       "    </tr>\n",
       "    <tr>\n",
       "      <th>11</th>\n",
       "      <td>12</td>\n",
       "      <td>Sriram</td>\n",
       "      <td>14</td>\n",
       "      <td>Fail</td>\n",
       "    </tr>\n",
       "    <tr>\n",
       "      <th>12</th>\n",
       "      <td>13</td>\n",
       "      <td>Ritvik</td>\n",
       "      <td>74</td>\n",
       "      <td>Pass</td>\n",
       "    </tr>\n",
       "    <tr>\n",
       "      <th>13</th>\n",
       "      <td>14</td>\n",
       "      <td>Omm</td>\n",
       "      <td>93</td>\n",
       "      <td>Pass</td>\n",
       "    </tr>\n",
       "  </tbody>\n",
       "</table>\n",
       "</div>"
      ],
      "text/plain": [
       "    id        Name  Marks Result\n",
       "0    1      jogesh     89   Pass\n",
       "1    2         ram     75   Pass\n",
       "2    3       gopal     33   Fail\n",
       "3    4        Aman     32   Fail\n",
       "4    5      Tushar     91   Pass\n",
       "5    6     Abhisek     52   Fail\n",
       "6    7       Rohit     78   Pass\n",
       "7    8  pavankumar     23   Fail\n",
       "8    9      subham     95   Pass\n",
       "9   10        Elsa     99   Pass\n",
       "10  11     Prativa     97   Pass\n",
       "11  12      Sriram     14   Fail\n",
       "12  13      Ritvik     74   Pass\n",
       "13  14         Omm     93   Pass"
      ]
     },
     "metadata": {},
     "output_type": "display_data"
    }
   ],
   "source": [
    "db_to_df=[]\n",
    "\n",
    "for x in result:\n",
    "    x=list(x)\n",
    "    db_to_df.append(x)\n",
    "col=[\"id\",\"Name\",\"Marks\",\"Result\"]\n",
    "df=pd.DataFrame(db_to_df,columns=col)\n",
    "\n",
    "display(df)"
   ]
  },
  {
   "cell_type": "code",
   "execution_count": 11,
   "id": "1552fa9f",
   "metadata": {},
   "outputs": [],
   "source": [
    "df.to_excel(\"C:\\\\Users\\\\JOGESH\\\\Desktop\\\\SQL Traning\\\\Group_activity_01\\\\Report.xlsx\" ,index=False)\n",
    "\n"
   ]
  },
  {
   "cell_type": "code",
   "execution_count": 12,
   "id": "a8327081",
   "metadata": {},
   "outputs": [
    {
     "name": "stdout",
     "output_type": "stream",
     "text": [
      "database connetion done\n",
      "Query was succesful\n"
     ]
    }
   ],
   "source": [
    "insert_query=\"\"\"insert into student values(14,\"Omm\",93,\"Pass\")\"\"\"\n",
    "connection=create_db_conncetion(\"localhost\",\"root\",pw,db)\n",
    "excecute_query(connection,insert_query)"
   ]
  },
  {
   "cell_type": "code",
   "execution_count": 24,
   "id": "aa49d0dd",
   "metadata": {},
   "outputs": [
    {
     "name": "stdout",
     "output_type": "stream",
     "text": [
      "database connetion done\n",
      "Query was succesful\n"
     ]
    }
   ],
   "source": [
    "update_query=\"\"\"update student set name=\"pavankumar\" where id=8\"\"\"\n",
    "connection=create_db_conncetion(\"localhost\",\"root\",pw,db)\n",
    "excecute_query(connection,update_query)"
   ]
  },
  {
   "cell_type": "code",
   "execution_count": 14,
   "id": "55737e22",
   "metadata": {},
   "outputs": [
    {
     "name": "stdout",
     "output_type": "stream",
     "text": [
      "database connetion done\n",
      "Query was succesful\n"
     ]
    }
   ],
   "source": [
    "insert_query=\"\"\"insert into student values(14,\"Ritvik\",74,\"Pass\")\"\"\"\n",
    "connection=create_db_conncetion(\"localhost\",\"root\",pw,db)\n",
    "excecute_query(connection,insert_query)"
   ]
  },
  {
   "cell_type": "code",
   "execution_count": 24,
   "id": "006d888a",
   "metadata": {},
   "outputs": [
    {
     "name": "stdout",
     "output_type": "stream",
     "text": [
      "()\n"
     ]
    }
   ],
   "source": [
    "res=()\n",
    "def column_name():\n",
    "    \n",
    "    cursor=connection.cursor()\n",
    "    res=cursor.description\n",
    "    print(res)\n",
    "print(res)\n"
   ]
  },
  {
   "cell_type": "code",
   "execution_count": 27,
   "id": "a716bcfe",
   "metadata": {},
   "outputs": [
    {
     "name": "stdout",
     "output_type": "stream",
     "text": [
      "database connetion done\n",
      "Query was succesful\n"
     ]
    }
   ],
   "source": [
    "delete_query= \"delete from student where id=14\"\n",
    "connection=create_db_conncetion(\"localhost\",\"root\",pw,db)\n",
    "excecute_query(connection,delete_query)"
   ]
  },
  {
   "cell_type": "code",
   "execution_count": null,
   "id": "9563a68a",
   "metadata": {},
   "outputs": [],
   "source": []
  }
 ],
 "metadata": {
  "kernelspec": {
   "display_name": "Python 3",
   "language": "python",
   "name": "python3"
  },
  "language_info": {
   "codemirror_mode": {
    "name": "ipython",
    "version": 3
   },
   "file_extension": ".py",
   "mimetype": "text/x-python",
   "name": "python",
   "nbconvert_exporter": "python",
   "pygments_lexer": "ipython3",
   "version": "3.9.6"
  },
  "vscode": {
   "interpreter": {
    "hash": "1c8ce36a086e12016fff442906a420ac7a6a72d2e604a9cd1405e67f00f1ce4d"
   }
  }
 },
 "nbformat": 4,
 "nbformat_minor": 5
}
